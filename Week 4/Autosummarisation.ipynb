{
 "cells": [
  {
   "cell_type": "code",
   "execution_count": 32,
   "metadata": {},
   "outputs": [
    {
     "name": "stdout",
     "output_type": "stream",
     "text": [
      "THIS IS THE EXTRACT!!!\n",
      "I couldn’t keep writing these forever—it’s finally time to say goodbye. Begin here and travel back through 56 months of nice type.I started writing these monthly favorite site roundup posts way back in March 2014, about nine months after I launched Typewolf. I wanted a way to highlight my favorite sites featured on Typewolf and to write about the typographic details behind the designs.I’ve enjoyed writing these posts over the years, but lately it has been harder and harder to come up with new things to say every month. I often feel like I’m repeating myself. I think I’m just getting a little bored with this format.I haven’t missed a single post (even through the births of two babies), so I’ve been questioning why exactly I’m so blindly dedicated to keeping these going. I know the posts probably seem easy to write, but I actually spend quite a significant amount of time each month putting them together.It’s also becoming more difficult to just pick a handful of favorites each month. The quality of the daily featured sites has improved over the years to the point where each one could be a contender now.So in short, I just don’t feel the need to keep writing these any longer.I wanted to make it to 60 posts so it would be an even five years, but once I made the decision to stop I just kind of lost all remaining motivation to continue. So I’m throwing in the towel early…I’m still working on Typewolf full-time—I’m just going to be spending more time on other things now:Thank you to everyone who has been reading these posts over the past five years.\n",
      "\t\tA short and sweet roundup of the latest type news and typeface releases delivered to your inbox every Tuesday. See the latest sites before they are featured on Typewolf (up to a week in advance).\n",
      "    Please enter a valid email address.Curated by Jeremiah Shoaf  ·  @typewolf\n",
      "\n",
      "\n",
      "A typography master course that doubles as an interactive visual reference that helps you achieve flawless type on every design project\n",
      "\n",
      "\n",
      "\n",
      "\n",
      "\n",
      "\n",
      "\n",
      "\n",
      "Search is coming soon. For now, just Google “typewolf” followed by the name of a font. Or view a list of all fonts or all sites.\n",
      "\n",
      "\tTypewolf is an independent typography resource created by Jeremiah Shoaf. The site gets over 350,000 unique visitors a month; running it is expensive and time consuming. If you find Typewolf useful, please consider supporting the site to help make it a sustainable side project.\n",
      "Please enter a valid email address.\n",
      "\n",
      "THIS IS THE SUMMARY!!!\n",
      "Begin here and travel back through 56 months of nice type.I started writing these monthly favorite site roundup posts way back in March 2014, about nine months after I launched Typewolf.\n",
      "I wanted a way to highlight my favorite sites featured on Typewolf and to write about the typographic details behind the designs.I’ve enjoyed writing these posts over the years, but lately it has been harder and harder to come up with new things to say every month.\n",
      "Please enter a valid email address.Curated by Jeremiah Shoaf  ·  @typewolf\n",
      "\n",
      "THESE ARE THE KEYWORDS!!!\n",
      "typewolf\n",
      "sites\n",
      "site roundup posts\n",
      "post\n",
      "type\n",
      "months\n",
      "month\n",
      "project\n",
      "releases\n",
      "writing\n",
      "write\n",
      "visual\n",
      "time\n",
      "typography master\n",
      "email\n",
      "address\n"
     ]
    }
   ],
   "source": [
    "import urllib.request\n",
    "from bs4 import BeautifulSoup\n",
    "from gensim.summarization import keywords\n",
    "from gensim.summarization import summarize\n",
    "\n",
    "typewolfText = urllib.request.urlopen('https://www.typewolf.com/blog/goodbye-to-favorite-sites-posts').read()\n",
    "\n",
    "soup = BeautifulSoup(typewolfText)\n",
    "\n",
    "extract = \"\"\n",
    "\n",
    "for text in soup.find_all('p'):\n",
    "    extract+=text.get_text()\n",
    "      \n",
    "theSummary = (summarize(extract, word_count=100))\n",
    "theKeywords = keywords(extract)\n",
    "\n",
    "print(\"THIS IS THE EXTRACT!!!\")\n",
    "print(extract)\n",
    "print(\"\")\n",
    "print(\"THIS IS THE SUMMARY!!!\")\n",
    "print(theSummary)\n",
    "print(\"\")\n",
    "print(\"THESE ARE THE KEYWORDS!!!\")\n",
    "print(theKeywords)\n",
    "\n",
    "#print(soup.find_all('p'))\n",
    "#print(summarize(extract, word_count=100))\n",
    "\n",
    "#help(summarize)\n",
    "#dir(summarize)"
   ]
  },
  {
   "cell_type": "code",
   "execution_count": null,
   "metadata": {},
   "outputs": [],
   "source": []
  }
 ],
 "metadata": {
  "kernelspec": {
   "display_name": "Python 3",
   "language": "python",
   "name": "python3"
  },
  "language_info": {
   "codemirror_mode": {
    "name": "ipython",
    "version": 3
   },
   "file_extension": ".py",
   "mimetype": "text/x-python",
   "name": "python",
   "nbconvert_exporter": "python",
   "pygments_lexer": "ipython3",
   "version": "3.7.4"
  }
 },
 "nbformat": 4,
 "nbformat_minor": 2
}
